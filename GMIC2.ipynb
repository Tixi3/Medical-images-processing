{
  "cells": [
    {
      "cell_type": "markdown",
      "metadata": {
        "id": "view-in-github",
        "colab_type": "text"
      },
      "source": [
        "<a href=\"https://colab.research.google.com/github/Tixi3/Medical-images-processing/blob/main/GMIC2.ipynb\" target=\"_parent\"><img src=\"https://colab.research.google.com/assets/colab-badge.svg\" alt=\"Open In Colab\"/></a>"
      ]
    },
    {
      "cell_type": "code",
      "execution_count": null,
      "metadata": {
        "colab": {
          "base_uri": "https://localhost:8080/"
        },
        "id": "zZSzQQAhhS4u",
        "outputId": "762ce09e-055c-4bd0-dfa1-3b710ba7b63f"
      },
      "outputs": [
        {
          "output_type": "stream",
          "name": "stdout",
          "text": [
            "Cloning into 'GMIC'...\n",
            "remote: Enumerating objects: 137, done.\u001b[K\n",
            "remote: Counting objects: 100% (35/35), done.\u001b[K\n",
            "remote: Compressing objects: 100% (18/18), done.\u001b[K\n",
            "remote: Total 137 (delta 14), reused 30 (delta 14), pack-reused 102\u001b[K\n",
            "Receiving objects: 100% (137/137), 492.43 MiB | 25.49 MiB/s, done.\n",
            "Resolving deltas: 100% (31/31), done.\n",
            "Checking out files: 100% (60/60), done.\n"
          ]
        }
      ],
      "source": [
        "!git clone https://github.com/nyukat/GMIC"
      ]
    },
    {
      "cell_type": "code",
      "execution_count": null,
      "metadata": {
        "colab": {
          "base_uri": "https://localhost:8080/"
        },
        "id": "GLvXoD-giAK_",
        "outputId": "cef63258-45a1-4072-f9ca-6cacb05ed359"
      },
      "outputs": [
        {
          "output_type": "stream",
          "name": "stdout",
          "text": [
            "Mounted at /content/drive\n"
          ]
        }
      ],
      "source": [
        "from google.colab import drive\n",
        "drive.mount('/content/drive')"
      ]
    },
    {
      "cell_type": "code",
      "source": [
        "!pip3 install torch==1.10.0 #promenjeno na 1.10 a bilo je 1.1\n",
        "!pip3 install torchvision>=0.2.2\n",
        "!pip3 install numpy>=1.14.3\n",
        "!pip3 install scipy>=1.0.0\n",
        "!pip3 install h5py>=2.7.1\n",
        "!pip3 install imageio>=2.4.1\n",
        "!pip3 install pandas>=0.22.0\n",
        "!pip3 install tqdm>=4.19.8\n",
        "!pip3 install opencv-python>=3.4.2\n",
        "!pip3 install matplotlib>=3.0.2"
      ],
      "metadata": {
        "colab": {
          "base_uri": "https://localhost:8080/"
        },
        "id": "7lJ_bl9OklbG",
        "outputId": "f7ec118e-5521-48c2-ab55-222c5b9665c8"
      },
      "execution_count": null,
      "outputs": [
        {
          "output_type": "stream",
          "name": "stdout",
          "text": [
            "Collecting torch==1.10.0\n",
            "  Downloading torch-1.10.0-cp37-cp37m-manylinux1_x86_64.whl (881.9 MB)\n",
            "\u001b[K     |██████████████████████████████▎ | 834.1 MB 1.3 MB/s eta 0:00:38tcmalloc: large alloc 1147494400 bytes == 0x665b8000 @  0x7f423dcee615 0x592b76 0x4df71e 0x59afff 0x515655 0x549576 0x593fce 0x548ae9 0x51566f 0x549576 0x593fce 0x548ae9 0x5127f1 0x598e3b 0x511f68 0x598e3b 0x511f68 0x598e3b 0x511f68 0x4bc98a 0x532e76 0x594b72 0x515600 0x549576 0x593fce 0x548ae9 0x5127f1 0x549576 0x593fce 0x5118f8 0x593dd7\n",
            "\u001b[K     |████████████████████████████████| 881.9 MB 19 kB/s \n",
            "\u001b[?25hRequirement already satisfied: typing-extensions in /usr/local/lib/python3.7/dist-packages (from torch==1.10.0) (4.2.0)\n",
            "Installing collected packages: torch\n",
            "  Attempting uninstall: torch\n",
            "    Found existing installation: torch 1.11.0+cu113\n",
            "    Uninstalling torch-1.11.0+cu113:\n",
            "      Successfully uninstalled torch-1.11.0+cu113\n",
            "\u001b[31mERROR: pip's dependency resolver does not currently take into account all the packages that are installed. This behaviour is the source of the following dependency conflicts.\n",
            "torchvision 0.12.0+cu113 requires torch==1.11.0, but you have torch 1.10.0 which is incompatible.\n",
            "torchtext 0.12.0 requires torch==1.11.0, but you have torch 1.10.0 which is incompatible.\n",
            "torchaudio 0.11.0+cu113 requires torch==1.11.0, but you have torch 1.10.0 which is incompatible.\u001b[0m\n",
            "Successfully installed torch-1.10.0\n"
          ]
        }
      ]
    },
    {
      "cell_type": "code",
      "source": [
        "import torchvision"
      ],
      "metadata": {
        "id": "fSRmNqBjvXe0",
        "colab": {
          "base_uri": "https://localhost:8080/"
        },
        "outputId": "a4fb3377-1188-4428-fad6-4978d8c91bd9"
      },
      "execution_count": null,
      "outputs": [
        {
          "output_type": "stream",
          "name": "stderr",
          "text": [
            "/usr/local/lib/python3.7/dist-packages/torchvision/io/image.py:13: UserWarning: Failed to load image Python extension: libtorch_cuda_cu.so: cannot open shared object file: No such file or directory\n",
            "  warn(f\"Failed to load image Python extension: {e}\")\n"
          ]
        }
      ]
    },
    {
      "cell_type": "code",
      "source": [
        "import cv2"
      ],
      "metadata": {
        "id": "vmggznUfvdqV"
      },
      "execution_count": null,
      "outputs": []
    },
    {
      "cell_type": "code",
      "source": [
        "%cd /content/GMIC/"
      ],
      "metadata": {
        "colab": {
          "base_uri": "https://localhost:8080/"
        },
        "id": "zGtpQ7dnxAdh",
        "outputId": "7b94e4d5-77cc-49a6-c9bf-fb8446789b15"
      },
      "execution_count": null,
      "outputs": [
        {
          "output_type": "stream",
          "name": "stdout",
          "text": [
            "/content/GMIC\n"
          ]
        }
      ]
    },
    {
      "cell_type": "code",
      "source": [
        "%pwd"
      ],
      "metadata": {
        "id": "1d9L_3ayx-R_",
        "colab": {
          "base_uri": "https://localhost:8080/",
          "height": 36
        },
        "outputId": "526662f2-24e7-449b-9976-bdf10f2b2304"
      },
      "execution_count": null,
      "outputs": [
        {
          "output_type": "execute_result",
          "data": {
            "text/plain": [
              "'/content/GMIC'"
            ],
            "application/vnd.google.colaboratory.intrinsic+json": {
              "type": "string"
            }
          },
          "metadata": {},
          "execution_count": 7
        }
      ]
    },
    {
      "cell_type": "code",
      "source": [
        "%%shell\n",
        ". run.sh"
      ],
      "metadata": {
        "colab": {
          "base_uri": "https://localhost:8080/"
        },
        "id": "Oo75tWPyhziX",
        "outputId": "b65742a1-1743-4521-8223-0257674f25c7"
      },
      "execution_count": null,
      "outputs": [
        {
          "output_type": "stream",
          "name": "stdout",
          "text": [
            "Stage 1: Crop Mammograms\n",
            "Stage 2: Extract Centers\n",
            "Stage 3: Run Classifier\n",
            "/usr/local/lib/python3.7/dist-packages/torchvision/io/image.py:13: UserWarning: Failed to load image Python extension: libtorch_cuda_cu.so: cannot open shared object file: No such file or directory\n",
            "  warn(f\"Failed to load image Python extension: {e}\")\n",
            "100% 4/4 [03:42<00:00, 55.72s/it]\n"
          ]
        },
        {
          "output_type": "execute_result",
          "data": {
            "text/plain": [
              ""
            ]
          },
          "metadata": {},
          "execution_count": 8
        }
      ]
    },
    {
      "cell_type": "code",
      "source": [
        "import pickle"
      ],
      "metadata": {
        "id": "Wl_Z-IUOuFYd"
      },
      "execution_count": null,
      "outputs": []
    },
    {
      "cell_type": "code",
      "source": [
        "f = open('/content/GMIC/sample_output/data.pkl', 'rb')"
      ],
      "metadata": {
        "id": "2K-qjXVpypRy"
      },
      "execution_count": null,
      "outputs": []
    },
    {
      "cell_type": "code",
      "source": [
        "d = pickle.load(f)"
      ],
      "metadata": {
        "id": "bJhyPbuAzI8y"
      },
      "execution_count": null,
      "outputs": []
    },
    {
      "cell_type": "code",
      "source": [
        "from google.colab.output import eval_js\n",
        "eval_js('google.colab.output.setIframeHeight(\"500\")')\n",
        "d"
      ],
      "metadata": {
        "colab": {
          "base_uri": "https://localhost:8080/",
          "height": 500
        },
        "id": "BR0OE-y1zOhT",
        "outputId": "cd4174c5-1fff-4bf2-d015-c81c3366f961"
      },
      "execution_count": null,
      "outputs": [
        {
          "output_type": "execute_result",
          "data": {
            "text/plain": [
              "[{'L-CC': ['0_L-CC'],\n",
              "  'L-CC_benign_seg': ['0_L-CC_benign'],\n",
              "  'L-CC_malignant_seg': ['0_L-CC_malignant'],\n",
              "  'L-MLO': ['0_L-MLO'],\n",
              "  'L-MLO_benign_seg': ['0_L-MLO_benign'],\n",
              "  'L-MLO_malignant_seg': ['0_L-MLO_malignant'],\n",
              "  'R-CC': ['0_R-CC'],\n",
              "  'R-CC_benign_seg': ['0_R-CC_benign'],\n",
              "  'R-CC_malignant_seg': ['0_R-CC_malignant'],\n",
              "  'R-MLO': ['0_R-MLO'],\n",
              "  'R-MLO_benign_seg': ['0_R-MLO_benign'],\n",
              "  'R-MLO_malignant_seg': ['0_R-MLO_malignant'],\n",
              "  'best_center': {'L-CC': [(1011, -211)],\n",
              "   'L-MLO': [(1206, -31)],\n",
              "   'R-CC': [(1072, -210)],\n",
              "   'R-MLO': [(1126, -5)]},\n",
              "  'bottommost_points': {'L-CC': [(1972, (100, 100))],\n",
              "   'L-MLO': [(2679, (100, 101))],\n",
              "   'R-CC': [(2093, (101, 101))],\n",
              "   'R-MLO': [(2599, (101, 102))]},\n",
              "  'cancer_label': {'benign': 1,\n",
              "   'left_benign': 0,\n",
              "   'left_malignant': 0,\n",
              "   'malignant': 0,\n",
              "   'right_benign': 1,\n",
              "   'right_malignant': 0,\n",
              "   'unknown': 0},\n",
              "  'distance_from_starting_side': {'L-CC': [0],\n",
              "   'L-MLO': [0],\n",
              "   'R-CC': [0],\n",
              "   'R-MLO': [0]},\n",
              "  'horizontal_flip': 'NO',\n",
              "  'rightmost_points': {'L-CC': [((948, 957), 750)],\n",
              "   'L-MLO': [((1733, 1749), 930)],\n",
              "   'R-CC': [((1232, 1249), 751)],\n",
              "   'R-MLO': [((1571, 1648), 956)]},\n",
              "  'window_location': {'L-CC': [(0, 2023, 0, 801)],\n",
              "   'L-MLO': [(0, 2730, 0, 981)],\n",
              "   'R-CC': [(0, 2144, 0, 801)],\n",
              "   'R-MLO': [(0, 2650, 0, 1006)]}},\n",
              " {'L-CC': ['1_L-CC'],\n",
              "  'L-CC_benign_seg': ['1_L-CC_benign'],\n",
              "  'L-CC_malignant_seg': ['1_L-CC_malignant'],\n",
              "  'L-MLO': ['1_L-MLO'],\n",
              "  'L-MLO_benign_seg': ['1_L-MLO_benign'],\n",
              "  'L-MLO_malignant_seg': ['1_L-MLO_malignant'],\n",
              "  'R-CC': ['1_R-CC'],\n",
              "  'R-CC_benign_seg': ['1_R-CC_benign'],\n",
              "  'R-CC_malignant_seg': ['1_R-CC_malignant'],\n",
              "  'R-MLO': ['1_R-MLO'],\n",
              "  'R-MLO_benign_seg': ['1_R-MLO_benign'],\n",
              "  'R-MLO_malignant_seg': ['1_R-MLO_malignant'],\n",
              "  'best_center': {'L-CC': [(2075, 1318)],\n",
              "   'L-MLO': [(2389, 1637)],\n",
              "   'R-CC': [(2131, 1170)],\n",
              "   'R-MLO': [(2281, 1488)]},\n",
              "  'bottommost_points': {'L-CC': [(3958, (100, 100))],\n",
              "   'L-MLO': [(3862, (1089, 1182))],\n",
              "   'R-CC': [(3894, (101, 106))],\n",
              "   'R-MLO': [(3754, (1151, 1151))]},\n",
              "  'cancer_label': {'benign': 0,\n",
              "   'left_benign': 0,\n",
              "   'left_malignant': 0,\n",
              "   'malignant': 1,\n",
              "   'right_benign': 0,\n",
              "   'right_malignant': 1,\n",
              "   'unknown': 0},\n",
              "  'distance_from_starting_side': {'L-CC': [0],\n",
              "   'L-MLO': [0],\n",
              "   'R-CC': [0],\n",
              "   'R-MLO': [0]},\n",
              "  'horizontal_flip': 'NO',\n",
              "  'rightmost_points': {'L-CC': [((2003, 2027), 2279)],\n",
              "   'L-MLO': [((2537, 2617), 2598)],\n",
              "   'R-CC': [((2104, 2173), 2131)],\n",
              "   'R-MLO': [((2504, 2526), 2449)]},\n",
              "  'window_location': {'L-CC': [(0, 4009, 0, 2330)],\n",
              "   'L-MLO': [(0, 3913, 0, 2649)],\n",
              "   'R-CC': [(0, 3945, 0, 2181)],\n",
              "   'R-MLO': [(0, 3805, 0, 2499)]}},\n",
              " {'L-CC': ['2_L-CC'],\n",
              "  'L-CC_benign_seg': ['2_L-CC_benign'],\n",
              "  'L-CC_malignant_seg': ['2_L-CC_malignant'],\n",
              "  'L-MLO': ['2_L-MLO'],\n",
              "  'L-MLO_benign_seg': ['2_L-MLO_benign'],\n",
              "  'L-MLO_malignant_seg': ['2_L-MLO_malignant'],\n",
              "  'R-CC': ['2_R-CC'],\n",
              "  'R-CC_benign_seg': ['2_R-CC_benign'],\n",
              "  'R-CC_malignant_seg': ['2_R-CC_malignant'],\n",
              "  'R-MLO': ['2_R-MLO'],\n",
              "  'R-MLO_benign_seg': ['2_R-MLO_benign'],\n",
              "  'R-MLO_malignant_seg': ['2_R-MLO_malignant'],\n",
              "  'best_center': {'L-CC': [(1646, 984)],\n",
              "   'L-MLO': [(2610, 1157)],\n",
              "   'R-CC': [(1510, 994)],\n",
              "   'R-MLO': [(1646, 1238)]},\n",
              "  'bottommost_points': {'L-CC': [(3170, (100, 105))],\n",
              "   'L-MLO': [(4083, (100, 237))],\n",
              "   'R-CC': [(2970, (101, 104))],\n",
              "   'R-MLO': [(4083, (101, 118))]},\n",
              "  'cancer_label': {'benign': 1,\n",
              "   'left_benign': 0,\n",
              "   'left_malignant': 0,\n",
              "   'malignant': 0,\n",
              "   'right_benign': 1,\n",
              "   'right_malignant': 0,\n",
              "   'unknown': 0},\n",
              "  'distance_from_starting_side': {'L-CC': [0],\n",
              "   'L-MLO': [0],\n",
              "   'R-CC': [0],\n",
              "   'R-MLO': [0]},\n",
              "  'horizontal_flip': 'NO',\n",
              "  'rightmost_points': {'L-CC': [((1768, 1786), 1945)],\n",
              "   'L-MLO': [((2311, 2327), 2118)],\n",
              "   'R-CC': [((1691, 1707), 1955)],\n",
              "   'R-MLO': [((2219, 2219), 2199)]},\n",
              "  'window_location': {'L-CC': [(0, 3221, 0, 1996)],\n",
              "   'L-MLO': [(0, 4096, 0, 2169)],\n",
              "   'R-CC': [(0, 3021, 0, 2005)],\n",
              "   'R-MLO': [(0, 4096, 0, 2249)]}},\n",
              " {'L-CC': ['3_L-CC'],\n",
              "  'L-CC_benign_seg': ['3_L-CC_benign'],\n",
              "  'L-CC_malignant_seg': ['3_L-CC_malignant'],\n",
              "  'L-MLO': ['3_L-MLO'],\n",
              "  'L-MLO_benign_seg': ['3_L-MLO_benign'],\n",
              "  'L-MLO_malignant_seg': ['3_L-MLO_malignant'],\n",
              "  'R-CC': ['3_R-CC'],\n",
              "  'R-CC_benign_seg': ['3_R-CC_benign'],\n",
              "  'R-CC_malignant_seg': ['3_R-CC_malignant'],\n",
              "  'R-MLO': ['3_R-MLO'],\n",
              "  'R-MLO_benign_seg': ['3_R-MLO_benign'],\n",
              "  'R-MLO_malignant_seg': ['3_R-MLO_malignant'],\n",
              "  'best_center': {'L-CC': [(1930, 1268)],\n",
              "   'L-MLO': [(2407, 1471)],\n",
              "   'R-CC': [(2119, 1580)],\n",
              "   'R-MLO': [(2441, 1696)]},\n",
              "  'bottommost_points': {'L-CC': [(3474, (789, 877))],\n",
              "   'L-MLO': [(3880, (1060, 1097))],\n",
              "   'R-CC': [(3642, (1221, 1241))],\n",
              "   'R-MLO': [(3914, (1286, 1367))]},\n",
              "  'cancer_label': {'benign': 0,\n",
              "   'left_benign': 0,\n",
              "   'left_malignant': 1,\n",
              "   'malignant': 1,\n",
              "   'right_benign': 0,\n",
              "   'right_malignant': 0,\n",
              "   'unknown': 0},\n",
              "  'distance_from_starting_side': {'L-CC': [0],\n",
              "   'L-MLO': [0],\n",
              "   'R-CC': [0],\n",
              "   'R-MLO': [0]},\n",
              "  'horizontal_flip': 'NO',\n",
              "  'rightmost_points': {'L-CC': [((1945, 2039), 2229)],\n",
              "   'L-MLO': [((2514, 2583), 2432)],\n",
              "   'R-CC': [((2263, 2308), 2541)],\n",
              "   'R-MLO': [((2483, 2567), 2657)]},\n",
              "  'window_location': {'L-CC': [(0, 3525, 0, 2280)],\n",
              "   'L-MLO': [(0, 3931, 0, 2483)],\n",
              "   'R-CC': [(0, 3693, 0, 2591)],\n",
              "   'R-MLO': [(0, 3965, 0, 2707)]}}]"
            ]
          },
          "metadata": {},
          "execution_count": 18
        }
      ]
    },
    {
      "cell_type": "code",
      "source": [
        "#Ucitavanje dicom fajla\n",
        "\n",
        "!ls -l /content/drive/MyDrive/Izabrana__poglavlja/PACS/INBreast/AllDICOMs/20586908_6c613a14b80a8591_MG_R_CC_ANON.dcm"
      ],
      "metadata": {
        "id": "_A4WZfZEzPwG",
        "colab": {
          "base_uri": "https://localhost:8080/"
        },
        "outputId": "6117e72f-5491-4ecd-972c-6d028b57430c"
      },
      "execution_count": null,
      "outputs": [
        {
          "output_type": "stream",
          "name": "stdout",
          "text": [
            "-rw------- 1 root root 27184016 Dec 29  2011 /content/drive/MyDrive/Izabrana__poglavlja/PACS/INBreast/AllDICOMs/20586908_6c613a14b80a8591_MG_R_CC_ANON.dcm\n"
          ]
        }
      ]
    },
    {
      "cell_type": "code",
      "source": [
        "try:\n",
        "  # Use the Colab's preinstalled TensorFlow 2.x\n",
        "  %tensorflow_version 2.x\n",
        "except:\n",
        "  pass"
      ],
      "metadata": {
        "id": "WzmY-VKPMdz1"
      },
      "execution_count": null,
      "outputs": []
    },
    {
      "cell_type": "code",
      "source": [
        "!pip install tensorflow-io"
      ],
      "metadata": {
        "colab": {
          "base_uri": "https://localhost:8080/"
        },
        "id": "udZB9WMPMidR",
        "outputId": "a3a782f6-e637-4340-e456-24cfff54bb09"
      },
      "execution_count": null,
      "outputs": [
        {
          "output_type": "stream",
          "name": "stdout",
          "text": [
            "Requirement already satisfied: tensorflow-io in /usr/local/lib/python3.7/dist-packages (0.25.0)\n",
            "Requirement already satisfied: tensorflow-io-gcs-filesystem==0.25.0 in /usr/local/lib/python3.7/dist-packages (from tensorflow-io) (0.25.0)\n"
          ]
        }
      ]
    },
    {
      "cell_type": "code",
      "source": [
        "import matplotlib.pyplot as plt\n",
        "import numpy as np\n",
        "\n",
        "import tensorflow as tf"
      ],
      "metadata": {
        "id": "FqVBpoItMnMy",
        "colab": {
          "base_uri": "https://localhost:8080/",
          "height": 131
        },
        "outputId": "ad270790-a817-4890-a655-8aa4d2fb2d86"
      },
      "execution_count": null,
      "outputs": [
        {
          "output_type": "error",
          "ename": "SyntaxError",
          "evalue": "ignored",
          "traceback": [
            "\u001b[0;36m  File \u001b[0;32m\"<ipython-input-14-5ddb1029073a>\"\u001b[0;36m, line \u001b[0;32m4\u001b[0m\n\u001b[0;31m    import tensorflow-io as tf\u001b[0m\n\u001b[0m                     ^\u001b[0m\n\u001b[0;31mSyntaxError\u001b[0m\u001b[0;31m:\u001b[0m invalid syntax\n"
          ]
        }
      ]
    },
    {
      "cell_type": "code",
      "source": [
        "import tensorflow_io as tfio\n",
        "\n",
        "image_bytes = tf.io.read_file('/content/drive/MyDrive/Izabrana__poglavlja/PACS/INBreast/AllDICOMs/20586908_6c613a14b80a8591_MG_R_CC_ANON.dcm')\n",
        "\n",
        "image = tfio.image.decode_dicom_image(image_bytes, dtype=tf.uint16)\n",
        "\n",
        "skipped = tfio.image.decode_dicom_image(image_bytes, on_error='skip', dtype=tf.uint8)\n",
        "\n",
        "lossy_image = tfio.image.decode_dicom_image(image_bytes, scale='auto', on_error='lossy', dtype=tf.uint8)\n",
        "\n",
        "\n",
        "fig, axes = plt.subplots(1,2, figsize=(10,10))\n",
        "axes[0].imshow(np.squeeze(image.numpy()), cmap='gray')\n",
        "axes[0].set_title('image')\n",
        "axes[1].imshow(np.squeeze(lossy_image.numpy()), cmap='gray')\n",
        "axes[1].set_title('lossy image');"
      ],
      "metadata": {
        "colab": {
          "base_uri": "https://localhost:8080/",
          "height": 381
        },
        "id": "_BwTEOalMnlj",
        "outputId": "3a23e5bf-1d49-4020-b605-028501586660"
      },
      "execution_count": null,
      "outputs": [
        {
          "output_type": "error",
          "ename": "SystemError",
          "evalue": "ignored",
          "traceback": [
            "\u001b[0;31m---------------------------------------------------------------------------\u001b[0m",
            "\u001b[0;31mSystemError\u001b[0m                               Traceback (most recent call last)",
            "\u001b[0;32m<ipython-input-12-6898283694ee>\u001b[0m in \u001b[0;36m<module>\u001b[0;34m()\u001b[0m\n\u001b[0;32m----> 1\u001b[0;31m \u001b[0;32mimport\u001b[0m \u001b[0mtensorflow_io\u001b[0m \u001b[0;32mas\u001b[0m \u001b[0mtfio\u001b[0m\u001b[0;34m\u001b[0m\u001b[0;34m\u001b[0m\u001b[0m\n\u001b[0m\u001b[1;32m      2\u001b[0m \u001b[0;34m\u001b[0m\u001b[0m\n\u001b[1;32m      3\u001b[0m \u001b[0mimage_bytes\u001b[0m \u001b[0;34m=\u001b[0m \u001b[0mtf\u001b[0m\u001b[0;34m.\u001b[0m\u001b[0mio\u001b[0m\u001b[0;34m.\u001b[0m\u001b[0mread_file\u001b[0m\u001b[0;34m(\u001b[0m\u001b[0;34m'/content/drive/MyDrive/Izabrana__poglavlja/PACS/INBreast/AllDICOMs/20586908_6c613a14b80a8591_MG_R_CC_ANON.dcm'\u001b[0m\u001b[0;34m)\u001b[0m\u001b[0;34m\u001b[0m\u001b[0;34m\u001b[0m\u001b[0m\n\u001b[1;32m      4\u001b[0m \u001b[0;34m\u001b[0m\u001b[0m\n\u001b[1;32m      5\u001b[0m \u001b[0mimage\u001b[0m \u001b[0;34m=\u001b[0m \u001b[0mtfio\u001b[0m\u001b[0;34m.\u001b[0m\u001b[0mimage\u001b[0m\u001b[0;34m.\u001b[0m\u001b[0mdecode_dicom_image\u001b[0m\u001b[0;34m(\u001b[0m\u001b[0mimage_bytes\u001b[0m\u001b[0;34m,\u001b[0m \u001b[0mdtype\u001b[0m\u001b[0;34m=\u001b[0m\u001b[0mtf\u001b[0m\u001b[0;34m.\u001b[0m\u001b[0muint16\u001b[0m\u001b[0;34m)\u001b[0m\u001b[0;34m\u001b[0m\u001b[0;34m\u001b[0m\u001b[0m\n",
            "\u001b[0;32m/usr/local/lib/python3.7/dist-packages/tensorflow_io/__init__.py\u001b[0m in \u001b[0;36m<module>\u001b[0;34m()\u001b[0m\n\u001b[1;32m     15\u001b[0m \u001b[0;34m\"\"\"tensorflow_io\"\"\"\u001b[0m\u001b[0;34m\u001b[0m\u001b[0;34m\u001b[0m\u001b[0m\n\u001b[1;32m     16\u001b[0m \u001b[0;34m\u001b[0m\u001b[0m\n\u001b[0;32m---> 17\u001b[0;31m \u001b[0;32mfrom\u001b[0m \u001b[0mtensorflow_io\u001b[0m\u001b[0;34m.\u001b[0m\u001b[0mpython\u001b[0m\u001b[0;34m.\u001b[0m\u001b[0mapi\u001b[0m \u001b[0;32mimport\u001b[0m \u001b[0;34m*\u001b[0m  \u001b[0;31m# pylint: disable=wildcard-import\u001b[0m\u001b[0;34m\u001b[0m\u001b[0;34m\u001b[0m\u001b[0m\n\u001b[0m\u001b[1;32m     18\u001b[0m \u001b[0;32mfrom\u001b[0m \u001b[0mtensorflow_io\u001b[0m\u001b[0;34m.\u001b[0m\u001b[0mpython\u001b[0m\u001b[0;34m.\u001b[0m\u001b[0mapi\u001b[0m\u001b[0;34m.\u001b[0m\u001b[0mversion\u001b[0m \u001b[0;32mimport\u001b[0m \u001b[0mVERSION\u001b[0m \u001b[0;32mas\u001b[0m \u001b[0m__version__\u001b[0m\u001b[0;34m\u001b[0m\u001b[0;34m\u001b[0m\u001b[0m\n",
            "\u001b[0;32m/usr/local/lib/python3.7/dist-packages/tensorflow_io/python/api/__init__.py\u001b[0m in \u001b[0;36m<module>\u001b[0;34m()\u001b[0m\n\u001b[1;32m     17\u001b[0m \u001b[0;34m\u001b[0m\u001b[0m\n\u001b[1;32m     18\u001b[0m \u001b[0;31m# tensorflow_io.core.python.ops is implicitly imported (along with file system)\u001b[0m\u001b[0;34m\u001b[0m\u001b[0;34m\u001b[0m\u001b[0;34m\u001b[0m\u001b[0m\n\u001b[0;32m---> 19\u001b[0;31m \u001b[0;32mfrom\u001b[0m \u001b[0mtensorflow_io\u001b[0m\u001b[0;34m.\u001b[0m\u001b[0mpython\u001b[0m\u001b[0;34m.\u001b[0m\u001b[0mops\u001b[0m\u001b[0;34m.\u001b[0m\u001b[0mio_dataset\u001b[0m \u001b[0;32mimport\u001b[0m \u001b[0mIODataset\u001b[0m\u001b[0;34m\u001b[0m\u001b[0;34m\u001b[0m\u001b[0m\n\u001b[0m\u001b[1;32m     20\u001b[0m \u001b[0;32mfrom\u001b[0m \u001b[0mtensorflow_io\u001b[0m\u001b[0;34m.\u001b[0m\u001b[0mpython\u001b[0m\u001b[0;34m.\u001b[0m\u001b[0mops\u001b[0m\u001b[0;34m.\u001b[0m\u001b[0mio_tensor\u001b[0m \u001b[0;32mimport\u001b[0m \u001b[0mIOTensor\u001b[0m\u001b[0;34m\u001b[0m\u001b[0;34m\u001b[0m\u001b[0m\n\u001b[1;32m     21\u001b[0m \u001b[0;34m\u001b[0m\u001b[0m\n",
            "\u001b[0;32m/usr/local/lib/python3.7/dist-packages/tensorflow_io/python/ops/__init__.py\u001b[0m in \u001b[0;36m<module>\u001b[0;34m()\u001b[0m\n\u001b[1;32m     22\u001b[0m \u001b[0;32mimport\u001b[0m \u001b[0mtypes\u001b[0m\u001b[0;34m\u001b[0m\u001b[0;34m\u001b[0m\u001b[0m\n\u001b[1;32m     23\u001b[0m \u001b[0;34m\u001b[0m\u001b[0m\n\u001b[0;32m---> 24\u001b[0;31m \u001b[0;32mimport\u001b[0m \u001b[0mtensorflow\u001b[0m \u001b[0;32mas\u001b[0m \u001b[0mtf\u001b[0m\u001b[0;34m\u001b[0m\u001b[0;34m\u001b[0m\u001b[0m\n\u001b[0m\u001b[1;32m     25\u001b[0m \u001b[0;34m\u001b[0m\u001b[0m\n\u001b[1;32m     26\u001b[0m \u001b[0;34m\u001b[0m\u001b[0m\n",
            "\u001b[0;32m/usr/local/lib/python3.7/dist-packages/tensorflow/__init__.py\u001b[0m in \u001b[0;36m<module>\u001b[0;34m()\u001b[0m\n\u001b[1;32m     35\u001b[0m \u001b[0;32mimport\u001b[0m \u001b[0mtyping\u001b[0m \u001b[0;32mas\u001b[0m \u001b[0m_typing\u001b[0m\u001b[0;34m\u001b[0m\u001b[0;34m\u001b[0m\u001b[0m\n\u001b[1;32m     36\u001b[0m \u001b[0;34m\u001b[0m\u001b[0m\n\u001b[0;32m---> 37\u001b[0;31m \u001b[0;32mfrom\u001b[0m \u001b[0mtensorflow\u001b[0m\u001b[0;34m.\u001b[0m\u001b[0mpython\u001b[0m\u001b[0;34m.\u001b[0m\u001b[0mtools\u001b[0m \u001b[0;32mimport\u001b[0m \u001b[0mmodule_util\u001b[0m \u001b[0;32mas\u001b[0m \u001b[0m_module_util\u001b[0m\u001b[0;34m\u001b[0m\u001b[0;34m\u001b[0m\u001b[0m\n\u001b[0m\u001b[1;32m     38\u001b[0m \u001b[0;32mfrom\u001b[0m \u001b[0mtensorflow\u001b[0m\u001b[0;34m.\u001b[0m\u001b[0mpython\u001b[0m\u001b[0;34m.\u001b[0m\u001b[0mutil\u001b[0m\u001b[0;34m.\u001b[0m\u001b[0mlazy_loader\u001b[0m \u001b[0;32mimport\u001b[0m \u001b[0mLazyLoader\u001b[0m \u001b[0;32mas\u001b[0m \u001b[0m_LazyLoader\u001b[0m\u001b[0;34m\u001b[0m\u001b[0;34m\u001b[0m\u001b[0m\n\u001b[1;32m     39\u001b[0m \u001b[0;34m\u001b[0m\u001b[0m\n",
            "\u001b[0;32m/usr/local/lib/python3.7/dist-packages/tensorflow/python/__init__.py\u001b[0m in \u001b[0;36m<module>\u001b[0;34m()\u001b[0m\n\u001b[1;32m     35\u001b[0m \u001b[0;34m\u001b[0m\u001b[0m\n\u001b[1;32m     36\u001b[0m \u001b[0;32mfrom\u001b[0m \u001b[0mtensorflow\u001b[0m\u001b[0;34m.\u001b[0m\u001b[0mpython\u001b[0m \u001b[0;32mimport\u001b[0m \u001b[0mpywrap_tensorflow\u001b[0m \u001b[0;32mas\u001b[0m \u001b[0m_pywrap_tensorflow\u001b[0m\u001b[0;34m\u001b[0m\u001b[0;34m\u001b[0m\u001b[0m\n\u001b[0;32m---> 37\u001b[0;31m \u001b[0;32mfrom\u001b[0m \u001b[0mtensorflow\u001b[0m\u001b[0;34m.\u001b[0m\u001b[0mpython\u001b[0m\u001b[0;34m.\u001b[0m\u001b[0meager\u001b[0m \u001b[0;32mimport\u001b[0m \u001b[0mcontext\u001b[0m\u001b[0;34m\u001b[0m\u001b[0;34m\u001b[0m\u001b[0m\n\u001b[0m\u001b[1;32m     38\u001b[0m \u001b[0;34m\u001b[0m\u001b[0m\n\u001b[1;32m     39\u001b[0m \u001b[0;31m# pylint: enable=wildcard-import\u001b[0m\u001b[0;34m\u001b[0m\u001b[0;34m\u001b[0m\u001b[0;34m\u001b[0m\u001b[0m\n",
            "\u001b[0;32m/usr/local/lib/python3.7/dist-packages/tensorflow/python/eager/context.py\u001b[0m in \u001b[0;36m<module>\u001b[0;34m()\u001b[0m\n\u001b[1;32m     27\u001b[0m \u001b[0;32mimport\u001b[0m \u001b[0msix\u001b[0m\u001b[0;34m\u001b[0m\u001b[0;34m\u001b[0m\u001b[0m\n\u001b[1;32m     28\u001b[0m \u001b[0;34m\u001b[0m\u001b[0m\n\u001b[0;32m---> 29\u001b[0;31m \u001b[0;32mfrom\u001b[0m \u001b[0mtensorflow\u001b[0m\u001b[0;34m.\u001b[0m\u001b[0mcore\u001b[0m\u001b[0;34m.\u001b[0m\u001b[0mframework\u001b[0m \u001b[0;32mimport\u001b[0m \u001b[0mfunction_pb2\u001b[0m\u001b[0;34m\u001b[0m\u001b[0;34m\u001b[0m\u001b[0m\n\u001b[0m\u001b[1;32m     30\u001b[0m \u001b[0;32mfrom\u001b[0m \u001b[0mtensorflow\u001b[0m\u001b[0;34m.\u001b[0m\u001b[0mcore\u001b[0m\u001b[0;34m.\u001b[0m\u001b[0mprotobuf\u001b[0m \u001b[0;32mimport\u001b[0m \u001b[0mconfig_pb2\u001b[0m\u001b[0;34m\u001b[0m\u001b[0;34m\u001b[0m\u001b[0m\n\u001b[1;32m     31\u001b[0m \u001b[0;32mfrom\u001b[0m \u001b[0mtensorflow\u001b[0m\u001b[0;34m.\u001b[0m\u001b[0mcore\u001b[0m\u001b[0;34m.\u001b[0m\u001b[0mprotobuf\u001b[0m \u001b[0;32mimport\u001b[0m \u001b[0mcoordination_config_pb2\u001b[0m\u001b[0;34m\u001b[0m\u001b[0;34m\u001b[0m\u001b[0m\n",
            "\u001b[0;32m/usr/local/lib/python3.7/dist-packages/tensorflow/core/framework/function_pb2.py\u001b[0m in \u001b[0;36m<module>\u001b[0;34m()\u001b[0m\n\u001b[1;32m     14\u001b[0m \u001b[0;34m\u001b[0m\u001b[0m\n\u001b[1;32m     15\u001b[0m \u001b[0;34m\u001b[0m\u001b[0m\n\u001b[0;32m---> 16\u001b[0;31m \u001b[0;32mfrom\u001b[0m \u001b[0mtensorflow\u001b[0m\u001b[0;34m.\u001b[0m\u001b[0mcore\u001b[0m\u001b[0;34m.\u001b[0m\u001b[0mframework\u001b[0m \u001b[0;32mimport\u001b[0m \u001b[0mattr_value_pb2\u001b[0m \u001b[0;32mas\u001b[0m \u001b[0mtensorflow_dot_core_dot_framework_dot_attr__value__pb2\u001b[0m\u001b[0;34m\u001b[0m\u001b[0;34m\u001b[0m\u001b[0m\n\u001b[0m\u001b[1;32m     17\u001b[0m \u001b[0;32mfrom\u001b[0m \u001b[0mtensorflow\u001b[0m\u001b[0;34m.\u001b[0m\u001b[0mcore\u001b[0m\u001b[0;34m.\u001b[0m\u001b[0mframework\u001b[0m \u001b[0;32mimport\u001b[0m \u001b[0mnode_def_pb2\u001b[0m \u001b[0;32mas\u001b[0m \u001b[0mtensorflow_dot_core_dot_framework_dot_node__def__pb2\u001b[0m\u001b[0;34m\u001b[0m\u001b[0;34m\u001b[0m\u001b[0m\n\u001b[1;32m     18\u001b[0m \u001b[0;32mfrom\u001b[0m \u001b[0mtensorflow\u001b[0m\u001b[0;34m.\u001b[0m\u001b[0mcore\u001b[0m\u001b[0;34m.\u001b[0m\u001b[0mframework\u001b[0m \u001b[0;32mimport\u001b[0m \u001b[0mop_def_pb2\u001b[0m \u001b[0;32mas\u001b[0m \u001b[0mtensorflow_dot_core_dot_framework_dot_op__def__pb2\u001b[0m\u001b[0;34m\u001b[0m\u001b[0;34m\u001b[0m\u001b[0m\n",
            "\u001b[0;32m/usr/local/lib/python3.7/dist-packages/tensorflow/core/framework/attr_value_pb2.py\u001b[0m in \u001b[0;36m<module>\u001b[0;34m()\u001b[0m\n\u001b[1;32m     14\u001b[0m \u001b[0;34m\u001b[0m\u001b[0m\n\u001b[1;32m     15\u001b[0m \u001b[0;34m\u001b[0m\u001b[0m\n\u001b[0;32m---> 16\u001b[0;31m \u001b[0;32mfrom\u001b[0m \u001b[0mtensorflow\u001b[0m\u001b[0;34m.\u001b[0m\u001b[0mcore\u001b[0m\u001b[0;34m.\u001b[0m\u001b[0mframework\u001b[0m \u001b[0;32mimport\u001b[0m \u001b[0mtensor_pb2\u001b[0m \u001b[0;32mas\u001b[0m \u001b[0mtensorflow_dot_core_dot_framework_dot_tensor__pb2\u001b[0m\u001b[0;34m\u001b[0m\u001b[0;34m\u001b[0m\u001b[0m\n\u001b[0m\u001b[1;32m     17\u001b[0m \u001b[0;32mfrom\u001b[0m \u001b[0mtensorflow\u001b[0m\u001b[0;34m.\u001b[0m\u001b[0mcore\u001b[0m\u001b[0;34m.\u001b[0m\u001b[0mframework\u001b[0m \u001b[0;32mimport\u001b[0m \u001b[0mtensor_shape_pb2\u001b[0m \u001b[0;32mas\u001b[0m \u001b[0mtensorflow_dot_core_dot_framework_dot_tensor__shape__pb2\u001b[0m\u001b[0;34m\u001b[0m\u001b[0;34m\u001b[0m\u001b[0m\n\u001b[1;32m     18\u001b[0m \u001b[0;32mfrom\u001b[0m \u001b[0mtensorflow\u001b[0m\u001b[0;34m.\u001b[0m\u001b[0mcore\u001b[0m\u001b[0;34m.\u001b[0m\u001b[0mframework\u001b[0m \u001b[0;32mimport\u001b[0m \u001b[0mtypes_pb2\u001b[0m \u001b[0;32mas\u001b[0m \u001b[0mtensorflow_dot_core_dot_framework_dot_types__pb2\u001b[0m\u001b[0;34m\u001b[0m\u001b[0;34m\u001b[0m\u001b[0m\n",
            "\u001b[0;32m/usr/local/lib/python3.7/dist-packages/tensorflow/core/framework/tensor_pb2.py\u001b[0m in \u001b[0;36m<module>\u001b[0;34m()\u001b[0m\n\u001b[1;32m     14\u001b[0m \u001b[0;34m\u001b[0m\u001b[0m\n\u001b[1;32m     15\u001b[0m \u001b[0;34m\u001b[0m\u001b[0m\n\u001b[0;32m---> 16\u001b[0;31m \u001b[0;32mfrom\u001b[0m \u001b[0mtensorflow\u001b[0m\u001b[0;34m.\u001b[0m\u001b[0mcore\u001b[0m\u001b[0;34m.\u001b[0m\u001b[0mframework\u001b[0m \u001b[0;32mimport\u001b[0m \u001b[0mresource_handle_pb2\u001b[0m \u001b[0;32mas\u001b[0m \u001b[0mtensorflow_dot_core_dot_framework_dot_resource__handle__pb2\u001b[0m\u001b[0;34m\u001b[0m\u001b[0;34m\u001b[0m\u001b[0m\n\u001b[0m\u001b[1;32m     17\u001b[0m \u001b[0;32mfrom\u001b[0m \u001b[0mtensorflow\u001b[0m\u001b[0;34m.\u001b[0m\u001b[0mcore\u001b[0m\u001b[0;34m.\u001b[0m\u001b[0mframework\u001b[0m \u001b[0;32mimport\u001b[0m \u001b[0mtensor_shape_pb2\u001b[0m \u001b[0;32mas\u001b[0m \u001b[0mtensorflow_dot_core_dot_framework_dot_tensor__shape__pb2\u001b[0m\u001b[0;34m\u001b[0m\u001b[0;34m\u001b[0m\u001b[0m\n\u001b[1;32m     18\u001b[0m \u001b[0;32mfrom\u001b[0m \u001b[0mtensorflow\u001b[0m\u001b[0;34m.\u001b[0m\u001b[0mcore\u001b[0m\u001b[0;34m.\u001b[0m\u001b[0mframework\u001b[0m \u001b[0;32mimport\u001b[0m \u001b[0mtypes_pb2\u001b[0m \u001b[0;32mas\u001b[0m \u001b[0mtensorflow_dot_core_dot_framework_dot_types__pb2\u001b[0m\u001b[0;34m\u001b[0m\u001b[0;34m\u001b[0m\u001b[0m\n",
            "\u001b[0;32m/usr/local/lib/python3.7/dist-packages/tensorflow/core/framework/resource_handle_pb2.py\u001b[0m in \u001b[0;36m<module>\u001b[0;34m()\u001b[0m\n\u001b[1;32m    148\u001b[0m   \u001b[0;34m,\u001b[0m\u001b[0;34m\u001b[0m\u001b[0;34m\u001b[0m\u001b[0m\n\u001b[1;32m    149\u001b[0m   \u001b[0;34m'DESCRIPTOR'\u001b[0m \u001b[0;34m:\u001b[0m \u001b[0m_RESOURCEHANDLEPROTO\u001b[0m\u001b[0;34m,\u001b[0m\u001b[0;34m\u001b[0m\u001b[0;34m\u001b[0m\u001b[0m\n\u001b[0;32m--> 150\u001b[0;31m   \u001b[0;34m'__module__'\u001b[0m \u001b[0;34m:\u001b[0m \u001b[0;34m'tensorflow.core.framework.resource_handle_pb2'\u001b[0m\u001b[0;34m\u001b[0m\u001b[0;34m\u001b[0m\u001b[0m\n\u001b[0m\u001b[1;32m    151\u001b[0m   \u001b[0;31m# @@protoc_insertion_point(class_scope:tensorflow.ResourceHandleProto)\u001b[0m\u001b[0;34m\u001b[0m\u001b[0;34m\u001b[0m\u001b[0;34m\u001b[0m\u001b[0m\n\u001b[1;32m    152\u001b[0m   })\n",
            "\u001b[0;31mSystemError\u001b[0m: google/protobuf/pyext/descriptor.cc:358: bad argument to internal function"
          ]
        }
      ]
    },
    {
      "cell_type": "code",
      "source": [
        "import os\n",
        "dir='/content/drive/MyDrive/Izabrana__poglavlja/PACS/INBreast/AllDICOMs/'\n",
        "dir_gde_cuvamo='/content/drive/MyDrive/Izabrana__poglavlja/DICOM_slike'\n",
        "filenames=[name for name in os.listdir(dir)]\n",
        "for i, filename in enumerate(filenames):\n",
        "  dicom_fajl=(os.path.join(dir, filename))\n",
        "  image_bytes = tf.io.read_file(dicom_fajl)\n",
        "  image = tfio.image.decode_dicom_image(image_bytes, scale='auto', on_error='lossy', dtype=tf.uint16)\n",
        "  pre, ext = os.path.splitext(filename)\n",
        "  png_fajl=(os.path.join(dir_gde_cuvamo,pre+'.png'))\n",
        "  tf.keras.preprocessing.image.save_img(png_fajl,image[0])\n",
        "\n"
      ],
      "metadata": {
        "colab": {
          "base_uri": "https://localhost:8080/",
          "height": 235
        },
        "id": "oVSzzRLbMz3t",
        "outputId": "99a30bdb-e495-49ff-d6df-234fc8934abd"
      },
      "execution_count": null,
      "outputs": [
        {
          "output_type": "error",
          "ename": "FileNotFoundError",
          "evalue": "ignored",
          "traceback": [
            "\u001b[0;31m---------------------------------------------------------------------------\u001b[0m",
            "\u001b[0;31mFileNotFoundError\u001b[0m                         Traceback (most recent call last)",
            "\u001b[0;32m<ipython-input-15-52d138fe4341>\u001b[0m in \u001b[0;36m<module>\u001b[0;34m()\u001b[0m\n\u001b[1;32m      2\u001b[0m \u001b[0mdir\u001b[0m\u001b[0;34m=\u001b[0m\u001b[0;34m'/content/drive/MyDrive/Izabrana__poglavlja/PACS/INBreast/AllDICOMs/'\u001b[0m\u001b[0;34m\u001b[0m\u001b[0;34m\u001b[0m\u001b[0m\n\u001b[1;32m      3\u001b[0m \u001b[0mdir_gde_cuvamo\u001b[0m\u001b[0;34m=\u001b[0m\u001b[0;34m'/content/drive/MyDrive/Izabrana__poglavlja/DICOM_slike'\u001b[0m\u001b[0;34m\u001b[0m\u001b[0;34m\u001b[0m\u001b[0m\n\u001b[0;32m----> 4\u001b[0;31m \u001b[0mfilenames\u001b[0m\u001b[0;34m=\u001b[0m\u001b[0;34m[\u001b[0m\u001b[0mname\u001b[0m \u001b[0;32mfor\u001b[0m \u001b[0mname\u001b[0m \u001b[0;32min\u001b[0m \u001b[0mos\u001b[0m\u001b[0;34m.\u001b[0m\u001b[0mlistdir\u001b[0m\u001b[0;34m(\u001b[0m\u001b[0mdir\u001b[0m\u001b[0;34m)\u001b[0m\u001b[0;34m]\u001b[0m\u001b[0;34m\u001b[0m\u001b[0;34m\u001b[0m\u001b[0m\n\u001b[0m\u001b[1;32m      5\u001b[0m \u001b[0;32mfor\u001b[0m \u001b[0mi\u001b[0m\u001b[0;34m,\u001b[0m \u001b[0mfilename\u001b[0m \u001b[0;32min\u001b[0m \u001b[0menumerate\u001b[0m\u001b[0;34m(\u001b[0m\u001b[0mfilenames\u001b[0m\u001b[0;34m)\u001b[0m\u001b[0;34m:\u001b[0m\u001b[0;34m\u001b[0m\u001b[0;34m\u001b[0m\u001b[0m\n\u001b[1;32m      6\u001b[0m   \u001b[0mdicom_fajl\u001b[0m\u001b[0;34m=\u001b[0m\u001b[0;34m(\u001b[0m\u001b[0mos\u001b[0m\u001b[0;34m.\u001b[0m\u001b[0mpath\u001b[0m\u001b[0;34m.\u001b[0m\u001b[0mjoin\u001b[0m\u001b[0;34m(\u001b[0m\u001b[0mdir\u001b[0m\u001b[0;34m,\u001b[0m \u001b[0mfilename\u001b[0m\u001b[0;34m)\u001b[0m\u001b[0;34m)\u001b[0m\u001b[0;34m\u001b[0m\u001b[0;34m\u001b[0m\u001b[0m\n",
            "\u001b[0;31mFileNotFoundError\u001b[0m: [Errno 2] No such file or directory: '/content/drive/MyDrive/Izabrana__poglavlja/PACS/INBreast/AllDICOMs/'"
          ]
        }
      ]
    },
    {
      "cell_type": "code",
      "source": [
        "tf.keras.preprocessing.image.save_img('/content/drive/MyDrive/Izabrana__poglavlja/DICOM_slike/file.png',image[0])"
      ],
      "metadata": {
        "id": "ur3qEJiJSovb"
      },
      "execution_count": null,
      "outputs": []
    },
    {
      "cell_type": "code",
      "source": [
        "problem='/content/drive/MyDrive/Izabrana__poglavlja/PACS/INBreast/AllDICOMs/22613770_45c7f44839fd9e68_MG_R_CC_ANON.dcm'\n",
        "\n",
        "image_bytes1 = tf.io.read_file(problem)\n",
        "image1 = tfio.image.decode_dicom_image(image_bytes1, scale='auto', on_error='lossy', dtype=tf.uint16)"
      ],
      "metadata": {
        "id": "A5NzN0HDVsDL"
      },
      "execution_count": null,
      "outputs": []
    },
    {
      "cell_type": "code",
      "source": [
        "pre1, ext1 = os.path.splitext('22613770_45c7f44839fd9e68_MG_R_CC_ANON.dcm')\n",
        "png_fajl1=(os.path.join(dir_gde_cuvamo,pre1+'.png'))\n",
        "print('pre',pre1)\n",
        "print('ext',ext1)\n",
        "print(png_fajl1)\n",
        "tf.keras.preprocessing.image.save_img(png_fajl1,image1[0])"
      ],
      "metadata": {
        "colab": {
          "base_uri": "https://localhost:8080/"
        },
        "id": "KSTKFuj4Zkrf",
        "outputId": "bdb4d61d-32e1-440b-f8cc-0a4307511377"
      },
      "execution_count": null,
      "outputs": [
        {
          "output_type": "stream",
          "name": "stdout",
          "text": [
            "pre 22613770_45c7f44839fd9e68_MG_R_CC_ANON\n",
            "ext .dcm\n",
            "/content/drive/MyDrive/Izabrana__poglavlja/DICOM_slike/22613770_45c7f44839fd9e68_MG_R_CC_ANON.png\n"
          ]
        }
      ]
    },
    {
      "cell_type": "code",
      "source": [],
      "metadata": {
        "id": "-2L3SDSyZqO0"
      },
      "execution_count": null,
      "outputs": []
    }
  ],
  "metadata": {
    "accelerator": "GPU",
    "colab": {
      "provenance": [],
      "include_colab_link": true
    },
    "kernelspec": {
      "display_name": "Python 3",
      "name": "python3"
    },
    "language_info": {
      "name": "python"
    }
  },
  "nbformat": 4,
  "nbformat_minor": 0
}